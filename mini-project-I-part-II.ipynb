{
 "cells": [
  {
   "cell_type": "markdown",
   "metadata": {},
   "source": [
    "## Movies\n",
    "In this part of mini-project, we need to have our API-KEY ready because this API won't work without it.\n",
    "\n",
    "We encourage you to look for correct endpoints in [the documentation](https://developers.themoviedb.org/3/account). We can also play around with requests there before copying them to Python."
   ]
  },
  {
   "cell_type": "code",
   "execution_count": 1,
   "metadata": {},
   "outputs": [],
   "source": [
    "import requests\n",
    "import os"
   ]
  },
  {
   "cell_type": "markdown",
   "metadata": {},
   "source": [
    "## Demo"
   ]
  },
  {
   "cell_type": "code",
   "execution_count": 2,
   "metadata": {},
   "outputs": [],
   "source": [
    "base = \"https://api.themoviedb.org/3\"\n",
    "url = \"/search/movie\"\n",
    "\n",
    "query = 'titanic'\n",
    "api_key = os.environ['TMDB_KEY']\n",
    "params = f'?query={query}&api_key={api_key}'"
   ]
  },
  {
   "cell_type": "code",
   "execution_count": 3,
   "metadata": {},
   "outputs": [],
   "source": [
    "res = requests.get(base+url+params)"
   ]
  },
  {
   "cell_type": "code",
   "execution_count": 4,
   "metadata": {},
   "outputs": [
    {
     "data": {
      "text/plain": [
       "200"
      ]
     },
     "execution_count": 4,
     "metadata": {},
     "output_type": "execute_result"
    }
   ],
   "source": [
    "res.status_code"
   ]
  },
  {
   "cell_type": "code",
   "execution_count": 16,
   "metadata": {},
   "outputs": [],
   "source": [
    "# res.json()"
   ]
  },
  {
   "cell_type": "code",
   "execution_count": null,
   "metadata": {},
   "outputs": [],
   "source": []
  },
  {
   "cell_type": "code",
   "execution_count": null,
   "metadata": {},
   "outputs": [],
   "source": []
  },
  {
   "cell_type": "markdown",
   "metadata": {},
   "source": [
    "## Task\n",
    "Search for you favorite movie and return the information about the movie:\n",
    "- name\n",
    "- release date\n",
    "- runtime\n",
    "- revenue\n",
    "- length of the overview\n",
    "- number of votes\n",
    "- voting average"
   ]
  },
  {
   "cell_type": "code",
   "execution_count": 6,
   "metadata": {},
   "outputs": [],
   "source": [
    "my_fav_movie = 'the shawshank redemption'\n",
    "params = f'?api_key={api_key}&query={my_fav_movie}'\n",
    "movie_id = requests.get(base+url+params).json()['results'][0]['id']\n",
    "\n",
    "my_fav_url = f'/movie/{movie_id}'\n",
    "my_fav_params = f'?api_key={api_key}'\n",
    "my_fav_res = requests.get(base+my_fav_url+my_fav_params).json()"
   ]
  },
  {
   "cell_type": "markdown",
   "metadata": {},
   "source": [
    "# Use KEY_LIST to simplify code below"
   ]
  },
  {
   "cell_type": "code",
   "execution_count": 7,
   "metadata": {},
   "outputs": [
    {
     "name": "stdout",
     "output_type": "stream",
     "text": [
      "name: The Shawshank Redemption\n",
      "release date: 1994-09-23\n",
      "runtime: 142\n",
      "revenue: 28341469\n",
      "length of the overview: 388\n",
      "number of votes: 20927\n",
      "voting average: 8.7\n"
     ]
    }
   ],
   "source": [
    "my_fav_list = {}\n",
    "movie_list_prop = ['name', 'release date', 'runtime', 'revenue', 'length of the overview', 'number of votes', 'voting average']\n",
    "my_fav_list['name'] = my_fav_res['original_title']\n",
    "my_fav_list['release date'] = my_fav_res['release_date']\n",
    "my_fav_list['runtime'] = my_fav_res['runtime']\n",
    "my_fav_list['revenue'] = my_fav_res['revenue']\n",
    "my_fav_list['length of the overview'] = len(my_fav_res['overview'])\n",
    "my_fav_list['number of votes'] = my_fav_res['vote_count']\n",
    "my_fav_list['voting average'] = my_fav_res['vote_average']\n",
    "for i in movie_list_prop: print(f'{i}: {my_fav_list[i]}')"
   ]
  },
  {
   "cell_type": "code",
   "execution_count": null,
   "metadata": {},
   "outputs": [],
   "source": []
  },
  {
   "cell_type": "code",
   "execution_count": null,
   "metadata": {},
   "outputs": [],
   "source": []
  },
  {
   "cell_type": "markdown",
   "metadata": {},
   "source": [
    "## Task\n",
    "Search for you favorite actor/actress and return the information about him/her:\n",
    "- name\n",
    "- date of birth\n",
    "- place of birth\n",
    "- length of the biography"
   ]
  },
  {
   "cell_type": "code",
   "execution_count": 8,
   "metadata": {},
   "outputs": [],
   "source": [
    "search_person_url = '/search/person'\n",
    "my_fav_actor = 'Natalie Portman'\n",
    "fav_actor_param = f'?api_key={api_key}&query={my_fav_actor}'\n",
    "actor_id = requests.get(base+search_person_url+fav_actor_param).json()['results'][0]['id']"
   ]
  },
  {
   "cell_type": "code",
   "execution_count": 9,
   "metadata": {},
   "outputs": [],
   "source": [
    "person_url = f'/person/{actor_id}'\n",
    "my_fav_actor_param = f'?api_key={api_key}'\n",
    "my_fav_actor_res = requests.get(base+person_url+my_fav_actor_param).json()"
   ]
  },
  {
   "cell_type": "code",
   "execution_count": 10,
   "metadata": {},
   "outputs": [
    {
     "name": "stdout",
     "output_type": "stream",
     "text": [
      "name: Natalie Portman\n",
      "date of birth: 1981-06-09\n",
      "place of birth: Jerusalem, Palestine (now Israel)\n",
      "length of the biography: 2160\n"
     ]
    }
   ],
   "source": [
    "my_fav_actor_list = {}\n",
    "actor_list_prop = ['name', 'date of birth', 'place of birth', 'length of the biography']\n",
    "my_fav_actor_list['name'] = my_fav_actor_res['name']\n",
    "my_fav_actor_list['date of birth'] = my_fav_actor_res['birthday']\n",
    "my_fav_actor_list['place of birth'] = my_fav_actor_res['place_of_birth']\n",
    "my_fav_actor_list['length of the biography'] = len(my_fav_actor_res['biography'])\n",
    "for i in actor_list_prop: print(f'{i}: {my_fav_actor_list[i]}')"
   ]
  },
  {
   "cell_type": "markdown",
   "metadata": {},
   "source": [
    "## Task\n",
    "Search for you favorite tv-show and return the information about it:\n",
    "- name\n",
    "- first air date\n",
    "- number of seasons\n",
    "- number of episodes\n",
    "- genres"
   ]
  },
  {
   "cell_type": "code",
   "execution_count": 11,
   "metadata": {},
   "outputs": [],
   "source": [
    "search_tv_url = '/search/tv'\n",
    "my_fav_tv = 'The Big Bang Theory'\n",
    "fav_tv_param = f'?api_key={api_key}&query={my_fav_tv}'\n",
    "tv_id = requests.get(base+search_tv_url+fav_tv_param).json()['results'][0]['id']"
   ]
  },
  {
   "cell_type": "code",
   "execution_count": 12,
   "metadata": {},
   "outputs": [],
   "source": [
    "tv_url = f'/tv/{tv_id}'\n",
    "my_fav_tv_param = f'?api_key={api_key}'\n",
    "my_fav_tv_res = requests.get(base+tv_url+my_fav_tv_param).json()"
   ]
  },
  {
   "cell_type": "code",
   "execution_count": 13,
   "metadata": {},
   "outputs": [
    {
     "name": "stdout",
     "output_type": "stream",
     "text": [
      "name: The Big Bang Theory\n",
      "first air date: 2007-09-24\n",
      "number of seasons: 12\n",
      "number of episodes: 279\n",
      "genres: Comedy\n"
     ]
    }
   ],
   "source": [
    "tv_list_prop = ['name', 'first air date', 'number of seasons', 'number of episodes', 'genres']\n",
    "my_fav_tv_list = {}\n",
    "my_fav_tv_list['name'] = my_fav_tv_res['name']\n",
    "my_fav_tv_list['first air date'] = my_fav_tv_res['first_air_date']\n",
    "my_fav_tv_list['number of seasons'] = my_fav_tv_res['number_of_seasons']\n",
    "my_fav_tv_list['number of episodes'] = my_fav_tv_res['number_of_episodes']\n",
    "my_fav_tv_list['genres'] = my_fav_tv_res['genres'][0]['name']\n",
    "for i in tv_list_prop: print(f'{i}: {my_fav_tv_list[i]}')"
   ]
  },
  {
   "cell_type": "markdown",
   "metadata": {},
   "source": [
    "## Task \n",
    "Find top 5 trending:\n",
    "- movies\n",
    "- tv-shows\n",
    "- people"
   ]
  },
  {
   "cell_type": "code",
   "execution_count": 14,
   "metadata": {},
   "outputs": [],
   "source": [
    "media_type = ['/movie', '/tv', '/person']\n",
    "time_window = '/week'\n",
    "trend_param = f'?api_key={api_key}'\n",
    "trend_res = []\n",
    "for mt in media_type:\n",
    "    search_trend_url = '/trending' + mt + time_window\n",
    "    trend_res.append(requests.get(base+search_trend_url+trend_param).json())"
   ]
  },
  {
   "cell_type": "code",
   "execution_count": 15,
   "metadata": {},
   "outputs": [
    {
     "name": "stdout",
     "output_type": "stream",
     "text": [
      "Top 5 movie:\n",
      "\tThe Batman\n",
      "\tSpider-Man: No Way Home\n",
      "\tThe Adam Project\n",
      "\tThe King's Man\n",
      "\tTurning Red\n",
      "Top 5 tv:\n",
      "\tVikings: Valhalla\n",
      "\tEuphoria\n",
      "\tThe Boys Presents: Diabolical\n",
      "\tPeaky Blinders\n",
      "\tThe Last Kingdom\n",
      "Top 5 people:\n",
      "\tJeff Imada\n",
      "\tTom Holland\n",
      "\tRobert Pattinson\n",
      "\tJackie Chan\n",
      "\tZendaya\n"
     ]
    }
   ],
   "source": [
    "type_list = ['movie', 'tv', 'people']\n",
    "name_list = ['original_title', 'original_name', 'name']\n",
    "for i in range(len(type_list)):\n",
    "    print(f'Top 5 {type_list[i]}:')\n",
    "    for j in range(5): print(f\"\\t{trend_res[i]['results'][j][name_list[i]]}\")"
   ]
  }
 ],
 "metadata": {
  "kernelspec": {
   "display_name": "lhl_work",
   "language": "python",
   "name": "lhl_work"
  },
  "language_info": {
   "codemirror_mode": {
    "name": "ipython",
    "version": 3
   },
   "file_extension": ".py",
   "mimetype": "text/x-python",
   "name": "python",
   "nbconvert_exporter": "python",
   "pygments_lexer": "ipython3",
   "version": "3.10.0"
  }
 },
 "nbformat": 4,
 "nbformat_minor": 4
}
