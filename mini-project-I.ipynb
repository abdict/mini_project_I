{
 "cells": [
  {
   "cell_type": "markdown",
   "metadata": {},
   "source": [
    "# Mini-Project I\n",
    "During this project, we will practice handling of complex lists and dictionaries in Python. Plus, we will learn how to work with API documentation. Don't be afraid to search for the information in the [**documentation**](https://api.tfl.gov.uk/swagger/ui/index.html?url=/swagger/docs/v1#!/AccidentStats/AccidentStats_Get).\n",
    "\n",
    "Let's go to the tasks, we have some parsing to do :)!!"
   ]
  },
  {
   "cell_type": "code",
   "execution_count": null,
   "metadata": {},
   "outputs": [],
   "source": []
  },
  {
   "cell_type": "code",
   "execution_count": 18,
   "metadata": {},
   "outputs": [],
   "source": [
    "# import packages we need (remember what packages we used yesterday during the API session)\n",
    "# IMPORT HERE\n",
    "import requests\n",
    "import os\n",
    "import json"
   ]
  },
  {
   "cell_type": "code",
   "execution_count": null,
   "metadata": {},
   "outputs": [],
   "source": []
  },
  {
   "cell_type": "code",
   "execution_count": null,
   "metadata": {},
   "outputs": [],
   "source": []
  },
  {
   "cell_type": "markdown",
   "metadata": {},
   "source": [
    "## Demo"
   ]
  },
  {
   "cell_type": "code",
   "execution_count": 19,
   "metadata": {},
   "outputs": [],
   "source": [
    "# don't forget package os\n",
    "app_id = os.environ['TFL_ID']\n",
    "app_key = os.environ['TFL_KEY']\n",
    "url_append = f'?app_id={app_id}&app_key={app_key}'"
   ]
  },
  {
   "cell_type": "code",
   "execution_count": 20,
   "metadata": {},
   "outputs": [
    {
     "name": "stdout",
     "output_type": "stream",
     "text": [
      "?app_id=2c406994b5c9412286a6492231739a8b&app_key=4619fac400fb46a5a43531829dfbd029\n"
     ]
    }
   ],
   "source": [
    "print(url_append)"
   ]
  },
  {
   "cell_type": "code",
   "execution_count": 21,
   "metadata": {},
   "outputs": [],
   "source": [
    "# URL\n",
    "url = \"https://api.tfl.gov.uk/AirQuality\""
   ]
  },
  {
   "cell_type": "code",
   "execution_count": 22,
   "metadata": {},
   "outputs": [],
   "source": [
    "# We send the request to the API\n",
    "# NOTE: if you don't have your APP_KEY, run this without the url_append\n",
    "res = requests.get(url+url_append)"
   ]
  },
  {
   "cell_type": "code",
   "execution_count": 23,
   "metadata": {},
   "outputs": [
    {
     "data": {
      "text/plain": [
       "200"
      ]
     },
     "execution_count": 23,
     "metadata": {},
     "output_type": "execute_result"
    }
   ],
   "source": [
    "# We can check if the request was successful\n",
    "res.status_code"
   ]
  },
  {
   "cell_type": "code",
   "execution_count": 24,
   "metadata": {},
   "outputs": [],
   "source": [
    "# We can export the information that was returned using method .json()\n",
    "# res.json()"
   ]
  },
  {
   "cell_type": "code",
   "execution_count": null,
   "metadata": {},
   "outputs": [],
   "source": []
  },
  {
   "cell_type": "markdown",
   "metadata": {},
   "source": [
    "## Task\n",
    "Parse the dictionary and print the AirQuality predictions for tomorrow"
   ]
  },
  {
   "cell_type": "code",
   "execution_count": null,
   "metadata": {},
   "outputs": [],
   "source": []
  },
  {
   "cell_type": "code",
   "execution_count": 64,
   "metadata": {},
   "outputs": [
    {
     "name": "stdout",
     "output_type": "stream",
     "text": [
      "Low air pollution forecast valid from Saturday 12 March to end of Saturday 12 March GMT\n"
     ]
    }
   ],
   "source": [
    "js_res = res.json()\n",
    "# with open('air_res.json', 'w') as f:\n",
    "#     f.write(json.dumps(js_res, indent=4))\n",
    "# f.close()\n",
    "print(js_res['currentForecast'][1]['forecastSummary'])"
   ]
  },
  {
   "cell_type": "code",
   "execution_count": null,
   "metadata": {},
   "outputs": [],
   "source": []
  },
  {
   "cell_type": "markdown",
   "metadata": {},
   "source": [
    "## Task\n",
    "What are the different modes of transport which are operated by Transfer for London? How many of modes do they have?\n",
    "\n",
    "Print the list with different modes of transport, plus their count. Example output:\n",
    "```\n",
    "[bus, cable-car,.....]\n",
    "Number of different modes of transport is: xyz\n",
    "```\n",
    "\n",
    "We need to search the documentation for correct request."
   ]
  },
  {
   "cell_type": "code",
   "execution_count": 26,
   "metadata": {},
   "outputs": [],
   "source": [
    "mode_url = 'https://api.tfl.gov.uk/Journey/Meta/Modes'\n",
    "mode_res = requests.get(mode_url+url_append)\n",
    "js_mode_res = mode_res.json()"
   ]
  },
  {
   "cell_type": "markdown",
   "metadata": {},
   "source": [
    "# Operated by TFL"
   ]
  },
  {
   "cell_type": "code",
   "execution_count": 63,
   "metadata": {},
   "outputs": [
    {
     "name": "stdout",
     "output_type": "stream",
     "text": [
      "[bus, cable-car, cycle-hire, dlr, elizabeth-line, overground, replacement-bus, river-bus, river-tour, tflrail, tram, tube]\n",
      "Number of different modes of transport is: 12\n"
     ]
    }
   ],
   "source": [
    "# with open('mode_res.json', 'w') as f:\n",
    "#     f.write(json.dumps(js_mode_res, indent=4))\n",
    "# f.close() <-- no need to close it\n",
    "mode_list = []\n",
    "n_modes = 0\n",
    "for each_mode in js_mode_res:\n",
    "    if each_mode['isTflService']:\n",
    "        mode_list.append(each_mode['modeName'])\n",
    "        n_modes += 1\n",
    "print('[', end='')\n",
    "for i in sorted(mode_list): print(f'{i}, ', end='')\n",
    "print('\\b\\b]')\n",
    "print(f'Number of different modes of transport is: {n_modes}')"
   ]
  },
  {
   "cell_type": "markdown",
   "metadata": {},
   "source": [
    "## Task\n",
    "How many BikePoints in London are operated by Transfor for London? How many docks are in **all** BikePoints? There is the information for empty and full docks for each BikePoint."
   ]
  },
  {
   "cell_type": "code",
   "execution_count": 28,
   "metadata": {},
   "outputs": [],
   "source": [
    "bike_point_url = 'https://api.tfl.gov.uk/BikePoint'\n",
    "bike_point_res = requests.get(bike_point_url+url_append)\n",
    "js_bike_point_res = bike_point_res.json()"
   ]
  },
  {
   "cell_type": "markdown",
   "metadata": {},
   "source": [
    "## Check bike docks index\n",
    "### [8] is not alway correct\n",
    "### *safeguard makes things safer"
   ]
  },
  {
   "cell_type": "code",
   "execution_count": 69,
   "metadata": {},
   "outputs": [
    {
     "name": "stdout",
     "output_type": "stream",
     "text": [
      "Total BikePoints = 788\n",
      "Total docks in all BikePoints = 12608\n",
      "There are 40 BikePoints with full docks\n",
      "There are 9498 empty docks available\n",
      "748 docks are broken\n"
     ]
    }
   ],
   "source": [
    "# with open('bikepoint_res.json', 'w') as f:\n",
    "#     f.write(json.dumps(js_bike_point_res, indent=4))\n",
    "# f.close()\n",
    "\n",
    "n_bike_point = 0\n",
    "n_bike_docks = 0\n",
    "n_empty_docks = 0\n",
    "n_full_docks = 0\n",
    "n_broken_docks = 0\n",
    "\n",
    "for each_bp in js_bike_point_res:\n",
    "    if each_bp['placeType'] == 'BikePoint':\n",
    "        n_bike_point += 1\n",
    "\n",
    "        for prop in each_bp['additionalProperties']:\n",
    "            if prop['key'] == 'Nbdocks': bike_docks = int(prop['value'])\n",
    "            elif prop['key'] == 'NbEmptyDocks': empty_bike_docks = int(prop['value'])\n",
    "            elif prop['key'] == 'NbBikes': n_bike_at_dock = int(prop['value'])\n",
    "\n",
    "        if bike_docks - (empty_bike_docks + n_bike_at_dock) == 0:\n",
    "            n_full_docks += 1\n",
    "        else:\n",
    "            n_broken_docks += 1\n",
    "        \n",
    "        n_bike_docks += bike_docks\n",
    "        n_empty_docks += empty_bike_docks\n",
    "\n",
    "print(f'Total BikePoints = {n_bike_point}')\n",
    "print(f'Total docks in all BikePoints = {n_bike_docks}')\n",
    "print(f'There are {n_full_docks} BikePoints with full docks')\n",
    "print(f'There are {n_empty_docks} empty docks available')\n",
    "print(f'{n_broken_docks} docks are broken')"
   ]
  },
  {
   "cell_type": "markdown",
   "metadata": {},
   "source": [
    "## Task\n",
    "How many tube and bus lines are in London? Print names of all tube lines."
   ]
  },
  {
   "cell_type": "code",
   "execution_count": 30,
   "metadata": {},
   "outputs": [],
   "source": [
    "tube_bus_url = 'https://api.tfl.gov.uk/Line/Mode/bus,tube/Route'\n",
    "tube_bus_res = requests.get(tube_bus_url+url_append)\n",
    "js_tube_bus_res = tube_bus_res.json()"
   ]
  },
  {
   "cell_type": "code",
   "execution_count": 67,
   "metadata": {},
   "outputs": [
    {
     "name": "stdout",
     "output_type": "stream",
     "text": [
      "Total number of bus lines = 678, tube lines = 11\n",
      "Names of all tube lines:\n",
      "['Bakerloo', 'Central', 'Circle', 'District', 'Hammersmith & City', 'Jubilee', 'Metropolitan', 'Northern', 'Piccadilly', 'Victoria', 'Waterloo & City']\n"
     ]
    }
   ],
   "source": [
    "# with open('tubebus_res.json', 'w') as f:\n",
    "#     f.write(json.dumps(js_tube_bus_res, indent=4))\n",
    "# f.close()\n",
    "\n",
    "n_bus_line = 0\n",
    "n_tube_line = 0\n",
    "tube_lines = []\n",
    "\n",
    "for each_entry in js_tube_bus_res:\n",
    "    if each_entry['modeName'] == 'bus': n_bus_line += 1\n",
    "    if each_entry['modeName'] == 'tube':\n",
    "        n_tube_line += 1\n",
    "        tube_lines.append(each_entry['name'])\n",
    "\n",
    "print(f'Total number of bus lines = {n_bus_line}, tube lines = {n_tube_line}')\n",
    "print(f'Names of all tube lines:\\n{tube_lines}')"
   ]
  },
  {
   "cell_type": "code",
   "execution_count": null,
   "metadata": {},
   "outputs": [],
   "source": []
  },
  {
   "cell_type": "markdown",
   "metadata": {},
   "source": [
    "## Task\n",
    "How many station has `victoria` line?"
   ]
  },
  {
   "cell_type": "code",
   "execution_count": 32,
   "metadata": {},
   "outputs": [],
   "source": [
    "victoria_in_url = 'https://api.tfl.gov.uk/Line/victoria/Route/Sequence/inbound'\n",
    "victoria_out_url = 'https://api.tfl.gov.uk/Line/victoria/Route/Sequence/outbound'\n",
    "victoria_in_res = requests.get(victoria_in_url+url_append)\n",
    "victoria_out_res = requests.get(victoria_out_url+url_append)"
   ]
  },
  {
   "cell_type": "code",
   "execution_count": 33,
   "metadata": {},
   "outputs": [
    {
     "name": "stdout",
     "output_type": "stream",
     "text": [
      "Number of Victoria line inbound stations: 16\n",
      "Number of Victoria line outbound stations: 16\n"
     ]
    }
   ],
   "source": [
    "n_victoria_in = len(victoria_in_res.json()['stations'])\n",
    "n_victoria_out = len(victoria_out_res.json()['stations'])\n",
    "print(f'Number of Victoria line inbound stations: {n_victoria_in}')\n",
    "print(f'Number of Victoria line outbound stations: {n_victoria_out}')"
   ]
  },
  {
   "cell_type": "markdown",
   "metadata": {},
   "source": [
    "## Task\n",
    "Plan the journey from Heathrow Airport to Tower Bridge using Bus and Tube? Which way is faster? Example output:\n",
    "```\n",
    "Planned duration:\n",
    "Bus: x minutes\n",
    "Tube: y minutes\n",
    "```\n",
    "\n",
    "We need to search the documentation for correct requests and parameters we need."
   ]
  },
  {
   "cell_type": "markdown",
   "metadata": {},
   "source": [
    "## You can RESPOND to the ambiguity responses received from servers\n",
    "### use the id of stops to figure out Depart Arrival points"
   ]
  },
  {
   "cell_type": "code",
   "execution_count": 90,
   "metadata": {},
   "outputs": [],
   "source": [
    "url_append2 = url_append.replace('?', '&')\n",
    "\n",
    "# bus only\n",
    "plan_bus_url = 'https://api.tfl.gov.uk/Journey/JourneyResults/HillingdonHeathrowAirportTerminal3/to/TowerBridgecityhall?mode=bus&date=20220314&time=0800'\n",
    "# tube only\n",
    "plan_tube_url = 'https://api.tfl.gov.uk/Journey/JourneyResults/HillingdonHeathrowAirportTerminal3/to/TowerBridgecityhall?mode=tube&date=20220314&time=0800'\n",
    "\n",
    "js_bus_res = requests.get(plan_bus_url+url_append2).json()\n",
    "js_tube_res = requests.get(plan_tube_url+url_append2).json()\n",
    "\n",
    "with open('bus_res.json', 'w') as f:\n",
    "    f.write(json.dumps(js_bus_res, indent=4))\n",
    "f.close()\n",
    "with open('tube_res.json', 'w') as f:\n",
    "    f.write(json.dumps(js_tube_res, indent=4))\n",
    "f.close()"
   ]
  },
  {
   "cell_type": "code",
   "execution_count": 91,
   "metadata": {},
   "outputs": [],
   "source": [
    "# bus+walking\n",
    "plan_bus_url = 'https://api.tfl.gov.uk/Journey/JourneyResults/HillingdonHeathrowAirportTerminal3/to/TowerBridgecityhall?mode=bus,walking&date=20220314&time=0800'\n",
    "# tube+walking\n",
    "plan_tube_url = 'https://api.tfl.gov.uk/Journey/JourneyResults/HillingdonHeathrowAirportTerminal3/to/TowerBridgecityhall?mode=tube,walking&date=20220314&time=0800'\n",
    "\n",
    "js_bus_res1 = requests.get(plan_bus_url+url_append2).json()\n",
    "js_tube_res1 = requests.get(plan_tube_url+url_append2).json()\n",
    "\n",
    "with open('busw_res.json', 'w') as f:\n",
    "    f.write(json.dumps(js_bus_res1, indent=4))\n",
    "f.close()\n",
    "with open('tubew_res.json', 'w') as f:\n",
    "    f.write(json.dumps(js_tube_res1, indent=4))\n",
    "f.close()"
   ]
  },
  {
   "cell_type": "markdown",
   "metadata": {},
   "source": [
    "## TFL ignores walking, try add walking mode mixed in bus/tube options"
   ]
  },
  {
   "cell_type": "code",
   "execution_count": 92,
   "metadata": {},
   "outputs": [
    {
     "name": "stdout",
     "output_type": "stream",
     "text": [
      "Planned duration:\n",
      "Bus: 187 minutes\n",
      "Tube: 85 minutes\n",
      "Bus+Walking: 187 minutes\n",
      "Tube+Walking: 85 minutes\n"
     ]
    }
   ],
   "source": [
    "bus_journey_time = []\n",
    "for j in js_bus_res['journeys']:\n",
    "    bus_journey_time.append(j['duration'])\n",
    "tube_journey_time = []\n",
    "for j in js_tube_res['journeys']:\n",
    "    tube_journey_time.append(j['duration'])\n",
    "\n",
    "busw_journey_time = []\n",
    "for j in js_bus_res1['journeys']:\n",
    "    busw_journey_time.append(j['duration'])\n",
    "tubew_journey_time = []\n",
    "for j in js_tube_res1['journeys']:\n",
    "    tubew_journey_time.append(j['duration'])\n",
    "\n",
    "print('Planned duration:')\n",
    "print(f'Bus: {min(bus_journey_time)} minutes')\n",
    "print(f'Tube: {min(tube_journey_time)} minutes')\n",
    "print(f'Bus+Walking: {min(busw_journey_time)} minutes')\n",
    "print(f'Tube+Walking: {min(tubew_journey_time)} minutes')"
   ]
  },
  {
   "cell_type": "code",
   "execution_count": null,
   "metadata": {},
   "outputs": [],
   "source": []
  },
  {
   "cell_type": "code",
   "execution_count": null,
   "metadata": {},
   "outputs": [],
   "source": []
  }
 ],
 "metadata": {
  "kernelspec": {
   "display_name": "lhl_work",
   "language": "python",
   "name": "lhl_work"
  },
  "language_info": {
   "codemirror_mode": {
    "name": "ipython",
    "version": 3
   },
   "file_extension": ".py",
   "mimetype": "text/x-python",
   "name": "python",
   "nbconvert_exporter": "python",
   "pygments_lexer": "ipython3",
   "version": "3.10.0"
  }
 },
 "nbformat": 4,
 "nbformat_minor": 4
}
